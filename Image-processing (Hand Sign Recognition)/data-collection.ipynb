{
 "cells": [
  {
   "cell_type": "code",
   "execution_count": 14,
   "metadata": {},
   "outputs": [
    {
     "ename": "ModuleNotFoundError",
     "evalue": "No module named 'mediapipe'",
     "output_type": "error",
     "traceback": [
      "\u001b[1;31m---------------------------------------------------------------------------\u001b[0m",
      "\u001b[1;31mModuleNotFoundError\u001b[0m                       Traceback (most recent call last)",
      "\u001b[1;32mc:\\Users\\kanis\\OneDrive\\Desktop\\New folder\\Image-processing (Hand Sign Recognition)\\data-collection.ipynb Cell 1\u001b[0m line \u001b[0;36m4\n\u001b[0;32m      <a href='vscode-notebook-cell:/c%3A/Users/kanis/OneDrive/Desktop/New%20folder/Image-processing%20%28Hand%20Sign%20Recognition%29/data-collection.ipynb#W1sZmlsZQ%3D%3D?line=1'>2</a>\u001b[0m \u001b[39mimport\u001b[39;00m \u001b[39mtime\u001b[39;00m\n\u001b[0;32m      <a href='vscode-notebook-cell:/c%3A/Users/kanis/OneDrive/Desktop/New%20folder/Image-processing%20%28Hand%20Sign%20Recognition%29/data-collection.ipynb#W1sZmlsZQ%3D%3D?line=2'>3</a>\u001b[0m \u001b[39mimport\u001b[39;00m \u001b[39mos\u001b[39;00m\n\u001b[1;32m----> <a href='vscode-notebook-cell:/c%3A/Users/kanis/OneDrive/Desktop/New%20folder/Image-processing%20%28Hand%20Sign%20Recognition%29/data-collection.ipynb#W1sZmlsZQ%3D%3D?line=3'>4</a>\u001b[0m \u001b[39mfrom\u001b[39;00m \u001b[39mcvzone\u001b[39;00m\u001b[39m.\u001b[39;00m\u001b[39mHandTrackingModule\u001b[39;00m \u001b[39mimport\u001b[39;00m HandDetector\n\u001b[0;32m      <a href='vscode-notebook-cell:/c%3A/Users/kanis/OneDrive/Desktop/New%20folder/Image-processing%20%28Hand%20Sign%20Recognition%29/data-collection.ipynb#W1sZmlsZQ%3D%3D?line=5'>6</a>\u001b[0m \u001b[39m# Create the \"data\" directory if it doesn't exist\u001b[39;00m\n\u001b[0;32m      <a href='vscode-notebook-cell:/c%3A/Users/kanis/OneDrive/Desktop/New%20folder/Image-processing%20%28Hand%20Sign%20Recognition%29/data-collection.ipynb#W1sZmlsZQ%3D%3D?line=6'>7</a>\u001b[0m \u001b[39mif\u001b[39;00m \u001b[39mnot\u001b[39;00m os\u001b[39m.\u001b[39mpath\u001b[39m.\u001b[39mexists(\u001b[39m\"\u001b[39m\u001b[39mdata\u001b[39m\u001b[39m\"\u001b[39m):\n",
      "File \u001b[1;32m~\\AppData\\Local\\Packages\\PythonSoftwareFoundation.Python.3.11_qbz5n2kfra8p0\\LocalCache\\local-packages\\Python311\\site-packages\\cvzone\\HandTrackingModule.py:10\u001b[0m\n\u001b[0;32m      7\u001b[0m \u001b[39mimport\u001b[39;00m \u001b[39mmath\u001b[39;00m\n\u001b[0;32m      9\u001b[0m \u001b[39mimport\u001b[39;00m \u001b[39mcv2\u001b[39;00m\n\u001b[1;32m---> 10\u001b[0m \u001b[39mimport\u001b[39;00m \u001b[39mmediapipe\u001b[39;00m \u001b[39mas\u001b[39;00m \u001b[39mmp\u001b[39;00m\n\u001b[0;32m     13\u001b[0m \u001b[39mclass\u001b[39;00m \u001b[39mHandDetector\u001b[39;00m:\n\u001b[0;32m     14\u001b[0m \u001b[39m    \u001b[39m\u001b[39m\"\"\"\u001b[39;00m\n\u001b[0;32m     15\u001b[0m \u001b[39m    Finds Hands using the mediapipe library. Exports the landmarks\u001b[39;00m\n\u001b[0;32m     16\u001b[0m \u001b[39m    in pixel format. Adds extra functionalities like finding how\u001b[39;00m\n\u001b[0;32m     17\u001b[0m \u001b[39m    many fingers are up or the distance between two fingers. Also\u001b[39;00m\n\u001b[0;32m     18\u001b[0m \u001b[39m    provides bounding box info of the hand found.\u001b[39;00m\n\u001b[0;32m     19\u001b[0m \u001b[39m    \"\"\"\u001b[39;00m\n",
      "\u001b[1;31mModuleNotFoundError\u001b[0m: No module named 'mediapipe'"
     ]
    }
   ],
   "source": [
    "import cv2\n",
    "import time\n",
    "import os\n",
    "from cvzone.HandTrackingModule import HandDetector\n",
    "\n",
    "# Create the \"data\" directory if it doesn't exist\n",
    "if not os.path.exists(\"data\"):\n",
    "    os.makedirs(\"data\")\n",
    "\n",
    "detector = HandDetector(maxHands=1)\n",
    "cap = cv2.VideoCapture(0)  # 0 represents the default camera (usually the webcam)\n",
    "\n",
    "while True:\n",
    "    ret, frame = cap.read()  # Read a frame from the camera\n",
    "\n",
    "    hands, frame = detector.findHands(frame)\n",
    "    \n",
    "    if hands:\n",
    "        # Capture the first hand found\n",
    "        hand = hands[0]\n",
    "        x, y, w, h = hand['bbox']\n",
    "        \n",
    "        cv2.rectangle(frame, (x, y), (x + w, y + h), (0, 255, 0), 2)\n",
    "\n",
    "        cv2.imshow(\"Image\", frame)\n",
    "\n",
    "        key = cv2.waitKey(1)\n",
    "\n",
    "        if key & 0xFF == ord('q'):\n",
    "            break\n",
    "        elif key & 0xFF == ord('s'):\n",
    "            timestamp = time.time()\n",
    "            filename = f\"data/HandSign_{timestamp}.jpg\"\n",
    "            hand_sign = frame[y:y+h, x:x+w]\n",
    "            cv2.imwrite(filename, hand_sign)\n",
    "            print(f\"Hand sign saved as {filename}\")\n",
    "\n",
    "cap.release()\n",
    "cv2.destroyAllWindows()\n"
   ]
  },
  {
   "cell_type": "markdown",
   "metadata": {},
   "source": [
    "This is the code for Image Recognition and capturing of real time Data for further analysis."
   ]
  }
 ],
 "metadata": {
  "kernelspec": {
   "display_name": "Python 3",
   "language": "python",
   "name": "python3"
  },
  "language_info": {
   "codemirror_mode": {
    "name": "ipython",
    "version": 3
   },
   "file_extension": ".py",
   "mimetype": "text/x-python",
   "name": "python",
   "nbconvert_exporter": "python",
   "pygments_lexer": "ipython3",
   "version": "3.11.6"
  }
 },
 "nbformat": 4,
 "nbformat_minor": 2
}
