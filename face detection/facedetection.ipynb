{
 "cells": [
  {
   "cell_type": "code",
   "execution_count": 3,
   "metadata": {},
   "outputs": [],
   "source": [
    "import cv2\n",
    "\n",
    "# Load the face cascade\n",
    "face_cascade = cv2.CascadeClassifier('face_detector.xml')\n",
    "\n",
    "# Read the image\n",
    "img = cv2.imread('./faceimage_Kanishk.jpg')\n",
    "\n",
    "# Check if the image is loaded successfully\n",
    "if img is None:\n",
    "    print(\"Error: Unable to load the image.\")\n",
    "else:\n",
    "    # Convert the image to grayscale (optional)\n",
    "    gray_img = cv2.cvtColor(img, cv2.COLOR_BGR2GRAY)\n",
    "\n",
    "    # Detect faces in the image\n",
    "    faces = face_cascade.detectMultiScale(gray_img, 1.1, 4)\n",
    "\n",
    "    # Draw rectangles around the faces\n",
    "    for (x, y, w, h) in faces:\n",
    "        cv2.rectangle(img, (x, y), (x+w, y+h), (255, 0, 0), 2)\n",
    "\n",
    "    # Save the image with rectangles\n",
    "    cv2.imwrite(\"face_detected.png\", img)\n",
    "\n",
    "    # Display the image (optional)\n",
    "    cv2.imshow(\"Detected Faces\", img)\n",
    "    cv2.waitKey(0)\n",
    "    cv2.destroyAllWindows()\n",
    "\n",
    "    print('Successfully saved')\n",
    "\n"
   ]
  }
 ],
 "metadata": {
  "kernelspec": {
   "display_name": "Python 3",
   "language": "python",
   "name": "python3"
  },
  "language_info": {
   "codemirror_mode": {
    "name": "ipython",
    "version": 3
   },
   "file_extension": ".py",
   "mimetype": "text/x-python",
   "name": "python",
   "nbconvert_exporter": "python",
   "pygments_lexer": "ipython3",
   "version": "3.11.6"
  }
 },
 "nbformat": 4,
 "nbformat_minor": 2
}
