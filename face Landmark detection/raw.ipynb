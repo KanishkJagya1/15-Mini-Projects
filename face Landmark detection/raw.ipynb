{
 "cells": [
  {
   "cell_type": "code",
   "execution_count": 9,
   "metadata": {},
   "outputs": [
    {
     "name": "stdout",
     "output_type": "stream",
     "text": [
      "Error opening file: path_to_fake_video.avi\n",
      "Error opening file: path_to_real_video.avi\n"
     ]
    }
   ],
   "source": [
    "import numpy as np\n",
    "import matplotlib.pyplot as plt\n",
    "import cv2\n",
    "import os\n",
    "from skimage import measure\n",
    "from mtcnn.mtcnn import MTCNN\n",
    "\n",
    "def extract_multiple_videos(input_filenames, image_path_infile):\n",
    "    \"\"\"Extract video files into a sequence of images.\"\"\"\n",
    "    i = 1  # Counter for the first video\n",
    "\n",
    "    for video_file in input_filenames:\n",
    "        cap = cv2.VideoCapture(video_file)\n",
    "\n",
    "        if not cap.isOpened():\n",
    "            print(\"Error opening file: {}\".format(video_file))\n",
    "            continue\n",
    "\n",
    "        while True:\n",
    "            ret, frame = cap.read()\n",
    "\n",
    "            if ret:\n",
    "                image_filename = os.path.join(image_path_infile, str(i) + '.jpg')\n",
    "                cv2.imwrite(image_filename, frame)\n",
    "                i += 1\n",
    "            else:\n",
    "                # Break the loop when reaching the end of the video\n",
    "                break\n",
    "\n",
    "        cap.release()\n",
    "\n",
    "# Example usage:\n",
    "fake_video_name = 'path_to_fake_video.avi'\n",
    "real_video_name = 'path_to_real_video.avi'\n",
    "fake_image_path_for_frame = 'path_to_save_fake_frames'\n",
    "real_image_path_for_frame = 'path_to_save_real_frames'\n",
    "\n",
    "extract_multiple_videos([fake_video_name], fake_image_path_for_frame)\n",
    "extract_multiple_videos([real_video_name], real_image_path_for_frame)\n",
    "\n",
    "def mse(imageA, imageB):\n",
    "    # Calculate the Mean Squared Error between two images\n",
    "    err = np.sum((imageA.astype(\"float\") - imageB.astype(\"float\")) ** 2)\n",
    "    err /= float(imageA.shape[0] * imageA.shape[1])\n",
    "    return err\n",
    "\n",
    "def compare_images(imageA, imageB, title):\n",
    "    # Compute the Mean Squared Error and Structural Similarity Index\n",
    "    m = mse(imageA, imageB)\n",
    "    s = measure.compare_ssim(imageA, imageB)\n",
    "\n",
    "    # Display the images and metrics\n",
    "    fig, axes = plt.subplots(1, 2, figsize=(10, 4))\n",
    "    fig.suptitle(\"MSE: %.2f, SSIM: %.2f\" % (m, s))\n",
    "\n",
    "    axes[0].imshow(imageA, cmap=plt.cm.gray)\n",
    "    axes[0].set_title('Image A')\n",
    "    axes[0].axis('off')\n",
    "\n",
    "    axes[1].imshow(imageB, cmap=plt.cm.gray)\n",
    "    axes[1].set_title('Image B')\n",
    "    axes[1].axis('off')\n",
    "\n",
    "    plt.show()\n",
    "\n",
    "# Example usage:\n",
    "# Assuming you have two images: image_fake and image_real\n",
    "# compare_images(image_fake, image_real, 'Comparison')\n",
    "# Enter the data for real and fake images and you shall be able to use the following algorithm\n"
   ]
  }
 ],
 "metadata": {
  "kernelspec": {
   "display_name": "Python 3",
   "language": "python",
   "name": "python3"
  },
  "language_info": {
   "codemirror_mode": {
    "name": "ipython",
    "version": 3
   },
   "file_extension": ".py",
   "mimetype": "text/x-python",
   "name": "python",
   "nbconvert_exporter": "python",
   "pygments_lexer": "ipython3",
   "version": "3.11.6"
  }
 },
 "nbformat": 4,
 "nbformat_minor": 2
}
